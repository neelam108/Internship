{
 "cells": [
  {
   "cell_type": "code",
   "execution_count": 3,
   "id": "5b07a7ed",
   "metadata": {},
   "outputs": [
    {
     "name": "stdout",
     "output_type": "stream",
     "text": [
      "Python:Exercises::PHP:Exercises:\n"
     ]
    }
   ],
   "source": [
    "#Question 1- Write a Python program to replace all occurrences of a space, comma, or dot with a colon.\n",
    "import re\n",
    "string= 'Python Exercises, PHP Exercises.'\n",
    "pattern= '[ ,.]'\n",
    "result=re.sub(pattern, ':', string)\n",
    "print (result)"
   ]
  },
  {
   "cell_type": "code",
   "execution_count": 20,
   "id": "7f5e7cea",
   "metadata": {},
   "outputs": [
    {
     "name": "stdout",
     "output_type": "stream",
     "text": [
      "['Exercises', 'and', 'Exercises']\n"
     ]
    }
   ],
   "source": [
    "#Question 2- Write a Python program to find all words starting with a or e in a given string.\n",
    "string= 'Python Exercises and PHP Exercises.'\n",
    "pattern= r'\\b[aE]\\w*'\n",
    "result= re.findall(pattern, string)\n",
    "print (result)"
   ]
  },
  {
   "cell_type": "code",
   "execution_count": 44,
   "id": "fa664fb0",
   "metadata": {},
   "outputs": [
    {
     "name": "stdout",
     "output_type": "stream",
     "text": [
      "['Python', 'Exercises', 'Exercises']\n"
     ]
    }
   ],
   "source": [
    "#Question 3- Create a function in python to find all words that are at least 4 characters long in a string. The use of the re.compile() method is mandatory.\n",
    "string= 'Python Exercises and PHP Exercises.'\n",
    "pattern= re.compile(r'\\b\\w{4,10}')\n",
    "result= re.findall(pattern, string)\n",
    "print (result)"
   ]
  },
  {
   "cell_type": "code",
   "execution_count": 52,
   "id": "745cd984",
   "metadata": {},
   "outputs": [
    {
     "name": "stdout",
     "output_type": "stream",
     "text": [
      "['and', 'PHP', 'Three', 'and', 'Five']\n"
     ]
    }
   ],
   "source": [
    "#Question 4- Create a function in python to find all three, four, and five character words in a string.The use of the re.compile() method is mandatory.\n",
    "string = 'Python Exercises and PHP Exercises. Three and Five.'\n",
    "pattern =re.compile(r'\\b\\w{3,5}\\b')\n",
    "result= re.findall(pattern, string)\n",
    "print (result)"
   ]
  },
  {
   "cell_type": "code",
   "execution_count": 84,
   "id": "ea418a8f",
   "metadata": {},
   "outputs": [
    {
     "name": "stdout",
     "output_type": "stream",
     "text": [
      "[“example  .com ”, “hr@fliprobo  .com ”, “github  .com ”, “Hello  Data Science World ”,“Data  Scientist ”]\n"
     ]
    }
   ],
   "source": [
    "#Question 5- Create a function in Python to remove the parenthesis in a list of strings. The use of the re.compile() method is mandatory.\n",
    "string = '[“example (.com)”, “hr@fliprobo (.com)”, “github (.com)”, “Hello (Data Science World)”,“Data (Scientist)”]'\n",
    "pattern = re.compile (r'\\s*\\([^)]*\\)')\n",
    "result = re.sub(r\"[()]\", \" \", string)\n",
    "print (result)"
   ]
  },
  {
   "cell_type": "code",
   "execution_count": 99,
   "id": "de1bcd6a",
   "metadata": {},
   "outputs": [
    {
     "name": "stdout",
     "output_type": "stream",
     "text": [
      "[“example  .com ”, “hrfliprobo  .com ”, “github  .com ”, “Hello  Data Science World ”,“Data  Scientist ”]\n"
     ]
    }
   ],
   "source": [
    "#Question 6- Write a python program to remove the parenthesis area from the text stored in the text file using Regular Expression.\n",
    "with open('JGfliprobo.txt','r', encoding='utf-8') as file:\n",
    "    file_content = file.read()\n",
    "pattern = re.compile(r'\\s*\\([^)]*\\)')\n",
    "result = re.sub(r\"[()]\", \" \", file_content)\n",
    "print(result)\n",
    "with open('new.txt', 'w') as file:\n",
    "    file.write(result)\n",
    "# I had to look up the 'encoding=utf-8' as there was an error I was unfamiliar with."
   ]
  },
  {
   "cell_type": "code",
   "execution_count": 101,
   "id": "330443ab",
   "metadata": {},
   "outputs": [
    {
     "name": "stdout",
     "output_type": "stream",
     "text": [
      "['', 'Importance', 'Of', 'Regular', 'Expressions', 'In', 'Python']\n"
     ]
    }
   ],
   "source": [
    "#Question 7- Write a regular expression in Python to split a string into uppercase letters.\n",
    "string= 'ImportanceOfRegularExpressionsInPython'\n",
    "pattern= r'(?=[A-Z])'\n",
    "result= re.split (pattern, string)\n",
    "print (result)"
   ]
  },
  {
   "cell_type": "code",
   "execution_count": 109,
   "id": "39f2d5c6",
   "metadata": {},
   "outputs": [
    {
     "name": "stdout",
     "output_type": "stream",
     "text": [
      "RegularExpression  1IsAn  2ImportantTopic  3InPython\n"
     ]
    }
   ],
   "source": [
    "#Question 8- Create a function in python to insert spaces between words starting with numbers.\n",
    "string='RegularExpression1IsAn2ImportantTopic3InPython'\n",
    "pattern= r'(?=\\d)'\n",
    "result= re.sub (pattern,' ', string)\n",
    "print (result)"
   ]
  },
  {
   "cell_type": "code",
   "execution_count": 115,
   "id": "efbf2bff",
   "metadata": {},
   "outputs": [
    {
     "name": "stdout",
     "output_type": "stream",
     "text": [
      "Regular Expression 1 Is An 2 Important Topic 3 In Python\n"
     ]
    }
   ],
   "source": [
    "#Question 9- Create a function in python to insert spaces between words starting with capital letters or with numbers.\n",
    "string='RegularExpression1IsAn2ImportantTopic3InPython'\n",
    "pattern=r'(?<=[A-Z0-9])(?=[A-Z])|(?<=[a-z0-9])(?=[A-Z0-9])'\n",
    "result= re.sub (pattern,' ',string)\n",
    "print (result)"
   ]
  },
  {
   "cell_type": "code",
   "execution_count": 129,
   "id": "6adb8022",
   "metadata": {},
   "outputs": [
    {
     "name": "stdout",
     "output_type": "stream",
     "text": [
      "['xyz@domain.com', 'xyz.abc@sdomain.domain.com.', 'hr@fliprobo.com']\n",
      "['xyz@domain.com', 'xyz.abc@sdomain.domain.com.', 'hr@fliprobo.com']\n",
      "['xyz@domain.com', 'xyz.abc@sdomain.domain.com.', 'hr@fliprobo.com']\n"
     ]
    }
   ],
   "source": [
    "#Question 10- Write a python program to extract email address from the text stored in the text file using Regular Expression.\n",
    "with open('fliprobosample2.txt','r', encoding='utf-8') as file:\n",
    "    file_content = file.read()\n",
    "pattern = r'\\S+@\\S+'\n",
    "result = re.findall(pattern, file_content)\n",
    "for i in result:\n",
    "    print (result)"
   ]
  },
  {
   "cell_type": "code",
   "execution_count": 134,
   "id": "92a6feee",
   "metadata": {},
   "outputs": [
    {
     "name": "stdout",
     "output_type": "stream",
     "text": [
      "FlipRobo\n",
      "FLIPROBO\n",
      "fliprobo\n",
      "fliprobo123\n",
      "123456\n",
      "flip_robo\n"
     ]
    }
   ],
   "source": [
    "#Question 11- Write a Python program to match a string that contains only upper and lowercase letters, numbers, and underscores.\n",
    "strings= ['FlipRobo', 'FLIPROBO', 'fliprobo', 'fliprobo123', '123456', 'flip_robo']\n",
    "pattern=re.compile(r'\\b[A-Za-z0-9_]+\\b')\n",
    "for i in strings:\n",
    "    result = pattern.findall(i)\n",
    "    for match in result:\n",
    "        print(match)"
   ]
  },
  {
   "cell_type": "code",
   "execution_count": 154,
   "id": "51b572a5",
   "metadata": {},
   "outputs": [
    {
     "name": "stdout",
     "output_type": "stream",
     "text": [
      "None\n",
      "<re.Match object; span=(0, 4), match='2def'>\n",
      "None\n",
      "None\n"
     ]
    }
   ],
   "source": [
    "#Question 12- Write a Python program where a string will start with a specific number.\n",
    "string= ['1abc', '2def','3ghi', '4jkl']\n",
    "pattern=(r'\\b[2a-z]+\\b')\n",
    "for n in string:\n",
    "    result = re.match (pattern, n)\n",
    "    print (result)"
   ]
  },
  {
   "cell_type": "code",
   "execution_count": 159,
   "id": "24f5f09e",
   "metadata": {},
   "outputs": [
    {
     "name": "stdout",
     "output_type": "stream",
     "text": [
      "12.321.123.\n"
     ]
    }
   ],
   "source": [
    "#Question 13- Write a Python program to remove leading zeros from an IP address.\n",
    "string= '102.321.123.000'\n",
    "pattern= '[0]'\n",
    "result= re.sub(pattern,'', string)\n",
    "print (result)"
   ]
  },
  {
   "cell_type": "code",
   "execution_count": 273,
   "id": "86376c29",
   "metadata": {},
   "outputs": [
    {
     "name": "stdout",
     "output_type": "stream",
     "text": [
      "['August 15th 1947']\n"
     ]
    }
   ],
   "source": [
    "#Question 14- Write a regular expression in python to match a date string in the form of Month name followed by day number and year stored in a text file.\n",
    "with open('britishcolonialism.txt','r', encoding='utf-8') as file:\n",
    "    file_content = file.read()\n",
    "    pattern = r'\\b\\w+\\s+\\d+(?:st|nd|rd|th)\\s*\\d*\\b'\n",
    "    result = re.findall(pattern, file_content)\n",
    "    print (result)"
   ]
  },
  {
   "cell_type": "code",
   "execution_count": 174,
   "id": "8b8ededa",
   "metadata": {},
   "outputs": [
    {
     "name": "stdout",
     "output_type": "stream",
     "text": [
      "['fox', 'dog']\n"
     ]
    }
   ],
   "source": [
    "#Question 15- Write a Python program to search some literals strings in a string.\n",
    "string= 'The quick brown fox jumps over the lazy dog.'\n",
    "pattern= r'\\bfox|dog|horse\\b'\n",
    "result= re.findall(pattern, string)\n",
    "print (result)"
   ]
  },
  {
   "cell_type": "code",
   "execution_count": 180,
   "id": "42c2de27",
   "metadata": {},
   "outputs": [
    {
     "name": "stdout",
     "output_type": "stream",
     "text": [
      "'fox'Start: 16, End: 19\n"
     ]
    }
   ],
   "source": [
    "#Question 16- Write a Python program to search a literals string in a string and also find the location within the original string where the pattern occurs.\n",
    "string = 'The quick brown fox jumps over the lazy dog.'\n",
    "searched_words = 'fox'\n",
    "pattern= 'f.*x'\n",
    "result = re.finditer(pattern, string)\n",
    "for match in result:\n",
    "    start = match.start()\n",
    "    end = match.end()\n",
    "    print(f\"'{searched_words}'Start: {start}, End: {end}\")\n"
   ]
  },
  {
   "cell_type": "code",
   "execution_count": 184,
   "id": "b177f232",
   "metadata": {},
   "outputs": [
    {
     "name": "stdout",
     "output_type": "stream",
     "text": [
      "['exercises', 'exercises', 'exercises']\n"
     ]
    }
   ],
   "source": [
    "#Question 17- Write a Python program to find the substrings within a string.\n",
    "string = 'Python exercises, PHP exercises, C# exercises'\n",
    "pattern = 'exercises'\n",
    "result = re.findall(pattern, string)\n",
    "print (result)"
   ]
  },
  {
   "cell_type": "code",
   "execution_count": 196,
   "id": "8135410e",
   "metadata": {},
   "outputs": [
    {
     "name": "stdout",
     "output_type": "stream",
     "text": [
      "'exercises'Start: 7, End:16\n",
      "'exercises'Start: 22, End:31\n",
      "'exercises'Start: 36, End:45\n"
     ]
    }
   ],
   "source": [
    "#Question 18- Write a Python program to find the occurrence and position of the substrings within a string.\n",
    "string='Python exercises, PHP exercises, C# exercises'\n",
    "pattern= 'exercises'\n",
    "result= re.finditer (pattern, string)\n",
    "for match in result:\n",
    "    start=match.start()\n",
    "    end=match.end()\n",
    "    print(f\"'{pattern}'Start: {start}, End:{end}\")"
   ]
  },
  {
   "cell_type": "code",
   "execution_count": 209,
   "id": "436ecf96",
   "metadata": {},
   "outputs": [
    {
     "name": "stdout",
     "output_type": "stream",
     "text": [
      "2023-07-05\n",
      "05-07-2023\n"
     ]
    }
   ],
   "source": [
    "#Question 19- Write a Python program to convert a date of yyyy-mm-dd format to dd-mm-yyyy format.\n",
    "date_yyyy_mm_dd='2023-07-05'\n",
    "yyyy, mm, dd= date_yyyy_mm_dd.split('-')\n",
    "date_converted= f\"{dd}-{mm}-{yyyy}\"\n",
    "print (date_yyyy_mm_dd)\n",
    "print (date_converted)"
   ]
  },
  {
   "cell_type": "code",
   "execution_count": 210,
   "id": "7b30c221",
   "metadata": {},
   "outputs": [
    {
     "name": "stdout",
     "output_type": "stream",
     "text": [
      "['45.6', '7.89']\n"
     ]
    }
   ],
   "source": [
    "#Question 20- Create a function in python to find all decimal numbers with a precision of 1 or 2 in a string. The use of the re.compile() method is mandatory.\n",
    "string= '123, 45.6, 7.89, 1011'\n",
    "pattern=re.compile(r'\\b\\d+\\.\\d{1,2}\\b')\n",
    "result= pattern.findall (string)\n",
    "print (result)"
   ]
  },
  {
   "cell_type": "code",
   "execution_count": 231,
   "id": "b5d4dfbc",
   "metadata": {},
   "outputs": [
    {
     "name": "stdout",
     "output_type": "stream",
     "text": [
      "'123' Start: 5, End: 8\n",
      "'45.6' Start: 15, End: 19\n",
      "'7.89' Start: 26, End: 30\n",
      "'1011' Start: 37, End: 41\n"
     ]
    }
   ],
   "source": [
    "#Question 21- Write a Python program to separate and print the numbers and their position of a given string.\n",
    "string = ('abc, 123, def, 45.6, ghi, 7.89, jkl, 1011')\n",
    "pattern = r'\\d+(\\.\\d{1,2})?'\n",
    "result = re.finditer(pattern, string)\n",
    "\n",
    "for match in result:\n",
    "    start = match.start()\n",
    "    end = match.end()\n",
    "    value=match.group()\n",
    "    print(f\"'{value}' Start: {start}, End: {end}\")"
   ]
  },
  {
   "cell_type": "code",
   "execution_count": 237,
   "id": "12ed75a1",
   "metadata": {},
   "outputs": [
    {
     "name": "stdout",
     "output_type": "stream",
     "text": [
      "950\n"
     ]
    }
   ],
   "source": [
    "#Question 22- Write a regular expression in python program to extract maximum/largest numeric value from a string.\n",
    "string= 'My marks in each semester are: 947, 896, 926, 524, 734, 950, 642'\n",
    "pattern= r'\\d+'\n",
    "result= re.findall (pattern, string) \n",
    "numbers=result\n",
    "if numbers:\n",
    "    max_number= max(numbers)\n",
    "    print (max_number)"
   ]
  },
  {
   "cell_type": "code",
   "execution_count": 241,
   "id": "8034e402",
   "metadata": {},
   "outputs": [
    {
     "name": "stdout",
     "output_type": "stream",
     "text": [
      "Regular Expression Is An Important Topic In Python\n"
     ]
    }
   ],
   "source": [
    "#Question 23- Create a function in python to insert spaces between words starting with capital letters.\n",
    "string='RegularExpressionIsAnImportantTopicInPython'\n",
    "pattern = r'(?<=[a-z])([A-Z][a-z]+)'\n",
    "result = re.sub(pattern, r' \\1', string)\n",
    "print (result)"
   ]
  },
  {
   "cell_type": "code",
   "execution_count": 243,
   "id": "784d1739",
   "metadata": {},
   "outputs": [
    {
     "name": "stdout",
     "output_type": "stream",
     "text": [
      "['Regular', 'Expressions', 'Python']\n"
     ]
    }
   ],
   "source": [
    "#Question 24- Python regex to find sequences of one upper case letter followed by lower case letters\n",
    "string= 'Regular Expressions are important in Python'\n",
    "pattern = r'[A-Z][a-z]+'\n",
    "result= re.findall (pattern, string)\n",
    "print (result)"
   ]
  },
  {
   "cell_type": "code",
   "execution_count": 255,
   "id": "cb780fdf",
   "metadata": {},
   "outputs": [
    {
     "name": "stdout",
     "output_type": "stream",
     "text": [
      "Hello hello world\n"
     ]
    }
   ],
   "source": [
    "#Question 25- Write a Python program to remove continuous duplicate words from Sentence using Regular Expression.\n",
    "string= 'Hello hello world world'\n",
    "pattern = r'\\b(\\w+)(\\s+\\1)+\\b'\n",
    "result = re.sub(pattern, r'\\1', string)\n",
    "print (result)"
   ]
  },
  {
   "cell_type": "code",
   "execution_count": 256,
   "id": "13717a0f",
   "metadata": {},
   "outputs": [
    {
     "name": "stdout",
     "output_type": "stream",
     "text": [
      "<re.Match object; span=(0, 28), match='This is an acceptable string'>\n"
     ]
    }
   ],
   "source": [
    "#Question 26- Write a python program using RegEx to accept string ending with alphanumeric character.\n",
    "string= 'This is an acceptable string'\n",
    "pattern= r'^.*[A-Za-z0-9]$'\n",
    "result= re.match (pattern, string)\n",
    "print (result)"
   ]
  },
  {
   "cell_type": "code",
   "execution_count": 258,
   "id": "db2ef8af",
   "metadata": {},
   "outputs": [
    {
     "name": "stdout",
     "output_type": "stream",
     "text": [
      "['#Doltiwal', '#xyzabc', '#Demonetization']\n"
     ]
    }
   ],
   "source": [
    "#Question 27-Write a python program using RegEx to extract the hashtags.\n",
    "string= 'RT @kapil_kausik: #Doltiwal I mean #xyzabc is \"hurt\" by #Demonetization as the same has rendered USELESS \"acquired funds\" No wo'\n",
    "pattern = r'#\\w+' \n",
    "result = re.findall(pattern, string)\n",
    "print (result)"
   ]
  },
  {
   "cell_type": "code",
   "execution_count": 261,
   "id": "d25d0185",
   "metadata": {},
   "outputs": [
    {
     "name": "stdout",
     "output_type": "stream",
     "text": [
      "@Jags123456 Bharat band on 28??<ed><ed>Those who are protesting #demonetization are all different party leaders\n"
     ]
    }
   ],
   "source": [
    "#Question 28- Write a python program using RegEx to remove <U+..> like symbols\n",
    "string= '@Jags123456 Bharat band on 28??<ed><U+00BD><ed><U+00B8><U+0082>Those who are protesting #demonetization are all different party leaders'\n",
    "pattern= r'<U\\+\\w+>'\n",
    "result = re.sub (pattern, '', string)\n",
    "print (result)"
   ]
  },
  {
   "cell_type": "code",
   "execution_count": 267,
   "id": "eb4506c6",
   "metadata": {},
   "outputs": [
    {
     "name": "stdout",
     "output_type": "stream",
     "text": [
      "['12-09-1992', '15-12-1999']\n"
     ]
    }
   ],
   "source": [
    "##Question 29- Write a python program to extract dates from the text stored in the text file.\n",
    "with open('Ron.txt','r', encoding='utf-8') as file:\n",
    "    file_content = file.read()\n",
    "    pattern = r'\\d{2}-\\d{2}-\\d{4}'\n",
    "    result = re.findall(pattern, file_content)\n",
    "    print (result)"
   ]
  },
  {
   "cell_type": "code",
   "execution_count": 270,
   "id": "34c21a8d",
   "metadata": {},
   "outputs": [
    {
     "name": "stdout",
     "output_type": "stream",
     "text": [
      " following example creates  ArrayList  a capacity   elements. 4 elements   added   ArrayList   ArrayList  trimmed accordingly.\n"
     ]
    }
   ],
   "source": [
    "#Question 30- Create a function in python to remove all words from a string of length between 2 and 4.The use of the re.compile() method is mandatory.\n",
    "string= 'The following example creates an ArrayList with a capacity of 50 elements. 4 elements are then added to the ArrayList and the ArrayList is trimmed accordingly.'\n",
    "pattern = re.compile(r'\\b\\w{2,4}\\b')\n",
    "result = re.sub(pattern,'', string)\n",
    "print (result)"
   ]
  },
  {
   "cell_type": "code",
   "execution_count": null,
   "id": "7ddb9d74",
   "metadata": {},
   "outputs": [],
   "source": []
  }
 ],
 "metadata": {
  "kernelspec": {
   "display_name": "Python 3 (ipykernel)",
   "language": "python",
   "name": "python3"
  },
  "language_info": {
   "codemirror_mode": {
    "name": "ipython",
    "version": 3
   },
   "file_extension": ".py",
   "mimetype": "text/x-python",
   "name": "python",
   "nbconvert_exporter": "python",
   "pygments_lexer": "ipython3",
   "version": "3.9.13"
  }
 },
 "nbformat": 4,
 "nbformat_minor": 5
}
